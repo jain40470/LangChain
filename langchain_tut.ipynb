{
 "cells": [
  {
   "cell_type": "code",
   "execution_count": 1,
   "metadata": {},
   "outputs": [],
   "source": [
    "import os"
   ]
  },
  {
   "cell_type": "code",
   "execution_count": 2,
   "metadata": {},
   "outputs": [],
   "source": [
    "import warnings\n",
    "warnings.filterwarnings(\"ignore\")"
   ]
  },
  {
   "cell_type": "code",
   "execution_count": 3,
   "metadata": {},
   "outputs": [
    {
     "data": {
      "text/plain": [
       "True"
      ]
     },
     "execution_count": 3,
     "metadata": {},
     "output_type": "execute_result"
    }
   ],
   "source": [
    "from dotenv import load_dotenv\n",
    "load_dotenv()"
   ]
  },
  {
   "cell_type": "code",
   "execution_count": 6,
   "metadata": {},
   "outputs": [],
   "source": [
    "GOOGLE_API_KEY = os.getenv(\"GOOGLE_API_KEY\")\n",
    "os.environ[\"GOOGLE_API_KEY\"] = GOOGLE_API_KEY\n",
    "\n",
    "TAVILY_API_KEY = os.getenv(\"TAVILY_API_KEY\")\n",
    "os.environ[\"TAVILY_API_KEY\"] = TAVILY_API_KEY\n",
    "\n",
    "LANGCHAIN_TRACING_V2 = os.getenv(\"LANGCHAIN_TRACING_V2\")\n",
    "os.environ[\"LANGCHAIN_TRACING_V2\"] = LANGCHAIN_TRACING_V2\n",
    "\n",
    "LANGCHAIN_API_KEY = os.getenv(\"LANGCHAIN_API_KEY\")\n",
    "os.environ[\"LANGCHAIN_API_KEY\"] = LANGCHAIN_API_KEY\n",
    "\n",
    "LANGCHAIN_PROJECT = os.getenv(\"LANGCHAIN_PROJECT\")\n",
    "os.environ[\"LANGCHAIN_PROJECT\"] = LANGCHAIN_PROJECT\n",
    "\n",
    "GROQ_API_KEY  = os.getenv(\"GROQ_API_KEY\")\n",
    "os.environ[\"GROQ_API_KEY\"] = GROQ_API_KEY\n",
    "\n",
    "HUGGINGFACEHUB_ACCESS_TOKEN  = os.getenv(\"HUGGINGFACEHUB_ACCESS_TOKEN\")\n",
    "os.environ[\"HUGGINGFACEHUB_ACCESS_TOKEN\"] = HUGGINGFACEHUB_ACCESS_TOKEN\n",
    "HUGGINGFACEHUB_ACCESS_TOKEN"
   ]
  },
  {
   "cell_type": "markdown",
   "metadata": {},
   "source": [
    "# CHAT MODELS\n",
    "\n",
    "we can use Gemini,OpenAI,Groq,Anthropic"
   ]
  },
  {
   "cell_type": "code",
   "execution_count": 7,
   "metadata": {},
   "outputs": [
    {
     "name": "stdout",
     "output_type": "stream",
     "text": [
      "content='\"Gen_AI\" (or Generative AI' additional_kwargs={} response_metadata={'prompt_feedback': {'block_reason': 0, 'safety_ratings': []}, 'finish_reason': 'MAX_TOKENS', 'model_name': 'gemini-1.5-pro-002', 'safety_ratings': []} id='run-d6892363-d54b-4692-ac69-3dfbab1506c1-0' usage_metadata={'input_tokens': 6, 'output_tokens': 10, 'total_tokens': 16, 'input_token_details': {'cache_read': 0}}\n",
      "\"Gen_AI\" (or Generative AI\n"
     ]
    }
   ],
   "source": [
    "from langchain_google_genai import ChatGoogleGenerativeAI\n",
    "\n",
    "llm_google = ChatGoogleGenerativeAI(model = \"gemini-1.5-pro\" , temperature = 0 , max_tokens=10)\n",
    "\n",
    "result_google = llm_google.invoke(\"Tell me about Gen_ai\")\n",
    "\n",
    "print(result_google)\n",
    "print(result_google.content)"
   ]
  },
  {
   "cell_type": "code",
   "execution_count": 8,
   "metadata": {},
   "outputs": [
    {
     "name": "stdout",
     "output_type": "stream",
     "text": [
      "content='Please clarify your request. There are a few possibilities for what you mean by \"Gen_ai\":\\n\\n* **A specific AI model named \"Gen_ai\":**  If you\\'re referring to a particular AI model with that name, I need more context. I don\\'t have access to information about every AI model out there. Could you provide a link or more details about it?\\n* **Generative AI in general:**  Perhaps you\\'re interested in learning about generative AI as a broad concept. Generative AI refers to a type of artificial intelligence that can create new content, such as text, images, audio, video, and code. \\n\\n* **A company or organization named \"Gen_ai\":** It\\'s possible that \"Gen_ai\" is the name of a company or organization working on AI. Again, I need more information to help you.\\n\\nPlease provide more details about what you\\'re looking for so I can give you a helpful answer.\\n' additional_kwargs={} response_metadata={'token_usage': {'completion_tokens': 205, 'prompt_tokens': 15, 'total_tokens': 220, 'completion_time': 0.372727273, 'prompt_time': 0.001956107, 'queue_time': 0.235293752, 'total_time': 0.37468338}, 'model_name': 'Gemma2-9b-It', 'system_fingerprint': 'fp_10c08bf97d', 'finish_reason': 'stop', 'logprobs': None} id='run-435fc725-297f-469a-9c19-b8b65f7a27c4-0' usage_metadata={'input_tokens': 15, 'output_tokens': 205, 'total_tokens': 220}\n"
     ]
    }
   ],
   "source": [
    "from langchain_groq import ChatGroq\n",
    "llm_groq = ChatGroq(model=\"Gemma2-9b-It\")\n",
    "\n",
    "\n",
    "result_groq = llm_groq.invoke(\"Tell me about Gen_ai\")\n",
    "\n",
    "print(result_groq)\n",
    "# print(result_groq.content)"
   ]
  },
  {
   "cell_type": "code",
   "execution_count": 10,
   "metadata": {},
   "outputs": [],
   "source": [
    "from langchain_huggingface import ChatHuggingFace\n",
    "from langchain_huggingface import HuggingFaceEndpoint \n",
    "\n",
    "model_huggingface = HuggingFaceEndpoint(\n",
    "    repo_id=\"TinyLlama/TinyLlama-1.1B-Chat-v1.0\",\n",
    "    task=\"text-generation\"\n",
    ") \n",
    "\n",
    "llm_huggingface = ChatHuggingFace(llm = model_huggingface)\n",
    "\n",
    "# result_huggingface = llm_huggingface.invoke(\"Tell me about Gen_ai\")\n",
    "\n",
    "# print(result_huggingface)"
   ]
  },
  {
   "cell_type": "code",
   "execution_count": null,
   "metadata": {},
   "outputs": [],
   "source": []
  },
  {
   "cell_type": "code",
   "execution_count": null,
   "metadata": {},
   "outputs": [],
   "source": []
  },
  {
   "cell_type": "code",
   "execution_count": null,
   "metadata": {},
   "outputs": [],
   "source": []
  }
 ],
 "metadata": {
  "kernelspec": {
   "display_name": "venvLangchain",
   "language": "python",
   "name": "python3"
  },
  "language_info": {
   "codemirror_mode": {
    "name": "ipython",
    "version": 3
   },
   "file_extension": ".py",
   "mimetype": "text/x-python",
   "name": "python",
   "nbconvert_exporter": "python",
   "pygments_lexer": "ipython3",
   "version": "3.9.6"
  }
 },
 "nbformat": 4,
 "nbformat_minor": 2
}
